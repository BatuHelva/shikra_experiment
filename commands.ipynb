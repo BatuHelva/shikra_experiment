{
 "cells": [
  {
   "cell_type": "code",
   "outputs": [],
   "source": [
    "conda create -n shikra python=3.10\n",
    "conda activate shikra\n"
   ],
   "metadata": {
    "collapsed": false
   },
   "id": "fc0fe71cd10d8504"
  },
  {
   "cell_type": "code",
   "outputs": [],
   "source": [
    "pip3 install torch torchvision torchaudio"
   ],
   "metadata": {
    "collapsed": false
   },
   "id": "b49f112b38b64e2f"
  },
  {
   "cell_type": "code",
   "outputs": [],
   "source": [
    "pip install -r requirements.txt"
   ],
   "metadata": {
    "collapsed": false
   },
   "id": "7a109f280e98a9b4"
  },
  {
   "cell_type": "code",
   "outputs": [],
   "source": [
    "pip install --upgrade charset-normalizer          "
   ],
   "metadata": {
    "collapsed": true
   },
   "id": "initial_id",
   "execution_count": 0
  },
  {
   "cell_type": "code",
   "outputs": [],
   "source": [
    "python mllm/models/shikra/apply_delta.py --base ./llama-7b/ --target ./shikra-7b --delta ./shikras-7b/shikra-7b-delta-v1      "
   ],
   "metadata": {
    "collapsed": false
   },
   "id": "923b81eabf67db5b"
  },
  {
   "cell_type": "code",
   "outputs": [],
   "source": [
    "\n",
    "\n",
    "accelerate launch --num_processes 4 --main_process_port 23786 mllm/pipeline/finetune.py config/shikra_eval_multi_pope.py \n"
   ],
   "metadata": {
    "collapsed": false
   },
   "id": "738bf02d5660ecfa"
  }
 ],
 "metadata": {
  "kernelspec": {
   "display_name": "Python 3",
   "language": "python",
   "name": "python3"
  },
  "language_info": {
   "codemirror_mode": {
    "name": "ipython",
    "version": 2
   },
   "file_extension": ".py",
   "mimetype": "text/x-python",
   "name": "python",
   "nbconvert_exporter": "python",
   "pygments_lexer": "ipython2",
   "version": "2.7.6"
  }
 },
 "nbformat": 4,
 "nbformat_minor": 5
}
